{
 "cells": [
  {
   "cell_type": "code",
   "execution_count": 1,
   "id": "dc8e3fa2-5789-4a84-b6a2-5f747ec202c5",
   "metadata": {
    "tags": []
   },
   "outputs": [],
   "source": [
    "import mchart as bcr\n",
    "import pandas as pd\n",
    "%matplotlib inline"
   ]
  },
  {
   "cell_type": "code",
   "execution_count": 2,
   "id": "21fa94eb-f750-4a01-97e7-b8f23696306d",
   "metadata": {
    "tags": []
   },
   "outputs": [],
   "source": [
    "selected_countries = ['BRA','CAN','CHN','DNK','FRA','DEU','KOR','MEX','NOR','ESP','SWE','GBR','USA']"
   ]
  },
  {
   "cell_type": "markdown",
   "id": "a26edabb-a9c6-4992-823a-ba0271448e41",
   "metadata": {
    "tags": []
   },
   "source": [
    "## Retrive data"
   ]
  },
  {
   "cell_type": "code",
   "execution_count": 3,
   "id": "5de41084-d0d0-49a7-af37-6bf73fc0ce12",
   "metadata": {
    "tags": []
   },
   "outputs": [
    {
     "data": {
      "text/html": [
       "<div>\n",
       "<style scoped>\n",
       "    .dataframe tbody tr th:only-of-type {\n",
       "        vertical-align: middle;\n",
       "    }\n",
       "\n",
       "    .dataframe tbody tr th {\n",
       "        vertical-align: top;\n",
       "    }\n",
       "\n",
       "    .dataframe thead th {\n",
       "        text-align: right;\n",
       "    }\n",
       "</style>\n",
       "<table border=\"1\" class=\"dataframe\">\n",
       "  <thead>\n",
       "    <tr style=\"text-align: right;\">\n",
       "      <th></th>\n",
       "      <th>Country Name</th>\n",
       "      <th>Country Code</th>\n",
       "      <th>Indicator Name</th>\n",
       "      <th>Indicator Code</th>\n",
       "      <th>1960</th>\n",
       "      <th>1961</th>\n",
       "      <th>1962</th>\n",
       "      <th>1963</th>\n",
       "      <th>1964</th>\n",
       "      <th>1965</th>\n",
       "      <th>...</th>\n",
       "      <th>2013</th>\n",
       "      <th>2014</th>\n",
       "      <th>2015</th>\n",
       "      <th>2016</th>\n",
       "      <th>2017</th>\n",
       "      <th>2018</th>\n",
       "      <th>2019</th>\n",
       "      <th>2020</th>\n",
       "      <th>2021</th>\n",
       "      <th>Unnamed: 66</th>\n",
       "    </tr>\n",
       "  </thead>\n",
       "  <tbody>\n",
       "    <tr>\n",
       "      <th>0</th>\n",
       "      <td>Aruba</td>\n",
       "      <td>ABW</td>\n",
       "      <td>Gross domestic savings (% of GDP)</td>\n",
       "      <td>NY.GDS.TOTL.ZS</td>\n",
       "      <td>NaN</td>\n",
       "      <td>NaN</td>\n",
       "      <td>NaN</td>\n",
       "      <td>NaN</td>\n",
       "      <td>NaN</td>\n",
       "      <td>NaN</td>\n",
       "      <td>...</td>\n",
       "      <td>15.031743</td>\n",
       "      <td>16.793435</td>\n",
       "      <td>21.417798</td>\n",
       "      <td>21.980902</td>\n",
       "      <td>21.842818</td>\n",
       "      <td>20.760642</td>\n",
       "      <td>22.300858</td>\n",
       "      <td>9.831194</td>\n",
       "      <td>20.499060</td>\n",
       "      <td>NaN</td>\n",
       "    </tr>\n",
       "    <tr>\n",
       "      <th>1</th>\n",
       "      <td>Africa Eastern and Southern</td>\n",
       "      <td>AFE</td>\n",
       "      <td>Gross domestic savings (% of GDP)</td>\n",
       "      <td>NY.GDS.TOTL.ZS</td>\n",
       "      <td>NaN</td>\n",
       "      <td>NaN</td>\n",
       "      <td>NaN</td>\n",
       "      <td>NaN</td>\n",
       "      <td>NaN</td>\n",
       "      <td>NaN</td>\n",
       "      <td>...</td>\n",
       "      <td>19.371542</td>\n",
       "      <td>21.113162</td>\n",
       "      <td>19.391227</td>\n",
       "      <td>19.640626</td>\n",
       "      <td>21.569906</td>\n",
       "      <td>19.491407</td>\n",
       "      <td>19.941069</td>\n",
       "      <td>19.606667</td>\n",
       "      <td>20.298267</td>\n",
       "      <td>NaN</td>\n",
       "    </tr>\n",
       "    <tr>\n",
       "      <th>2</th>\n",
       "      <td>Afghanistan</td>\n",
       "      <td>AFG</td>\n",
       "      <td>Gross domestic savings (% of GDP)</td>\n",
       "      <td>NY.GDS.TOTL.ZS</td>\n",
       "      <td>13.223148</td>\n",
       "      <td>12.955474</td>\n",
       "      <td>14.63415</td>\n",
       "      <td>6.508883</td>\n",
       "      <td>4.722233</td>\n",
       "      <td>1.10375</td>\n",
       "      <td>...</td>\n",
       "      <td>NaN</td>\n",
       "      <td>NaN</td>\n",
       "      <td>NaN</td>\n",
       "      <td>NaN</td>\n",
       "      <td>NaN</td>\n",
       "      <td>NaN</td>\n",
       "      <td>NaN</td>\n",
       "      <td>NaN</td>\n",
       "      <td>NaN</td>\n",
       "      <td>NaN</td>\n",
       "    </tr>\n",
       "  </tbody>\n",
       "</table>\n",
       "<p>3 rows × 67 columns</p>\n",
       "</div>"
      ],
      "text/plain": [
       "                  Country Name Country Code  \\\n",
       "0                        Aruba          ABW   \n",
       "1  Africa Eastern and Southern          AFE   \n",
       "2                  Afghanistan          AFG   \n",
       "\n",
       "                      Indicator Name  Indicator Code       1960       1961  \\\n",
       "0  Gross domestic savings (% of GDP)  NY.GDS.TOTL.ZS        NaN        NaN   \n",
       "1  Gross domestic savings (% of GDP)  NY.GDS.TOTL.ZS        NaN        NaN   \n",
       "2  Gross domestic savings (% of GDP)  NY.GDS.TOTL.ZS  13.223148  12.955474   \n",
       "\n",
       "       1962      1963      1964     1965  ...       2013       2014  \\\n",
       "0       NaN       NaN       NaN      NaN  ...  15.031743  16.793435   \n",
       "1       NaN       NaN       NaN      NaN  ...  19.371542  21.113162   \n",
       "2  14.63415  6.508883  4.722233  1.10375  ...        NaN        NaN   \n",
       "\n",
       "        2015       2016       2017       2018       2019       2020  \\\n",
       "0  21.417798  21.980902  21.842818  20.760642  22.300858   9.831194   \n",
       "1  19.391227  19.640626  21.569906  19.491407  19.941069  19.606667   \n",
       "2        NaN        NaN        NaN        NaN        NaN        NaN   \n",
       "\n",
       "        2021  Unnamed: 66  \n",
       "0  20.499060          NaN  \n",
       "1  20.298267          NaN  \n",
       "2        NaN          NaN  \n",
       "\n",
       "[3 rows x 67 columns]"
      ]
     },
     "execution_count": 3,
     "metadata": {},
     "output_type": "execute_result"
    }
   ],
   "source": [
    "df = pd.read_csv(\"data/API_NY.GDS.TOTL.ZS_DS2_en_csv_v2_4772577.csv\",skiprows=2,header=1)\n",
    "df.head(3)"
   ]
  },
  {
   "cell_type": "code",
   "execution_count": 4,
   "id": "47798dc5-8e6b-4a51-8dc3-3cdf014f5299",
   "metadata": {
    "tags": []
   },
   "outputs": [
    {
     "data": {
      "text/plain": [
       "Index(['Country Name', 'Country Code', 'Indicator Name', 'Indicator Code',\n",
       "       '1960', '1961', '1962', '1963', '1964', '1965', '1966', '1967', '1968',\n",
       "       '1969', '1970', '1971', '1972', '1973', '1974', '1975', '1976', '1977',\n",
       "       '1978', '1979', '1980', '1981', '1982', '1983', '1984', '1985', '1986',\n",
       "       '1987', '1988', '1989', '1990', '1991', '1992', '1993', '1994', '1995',\n",
       "       '1996', '1997', '1998', '1999', '2000', '2001', '2002', '2003', '2004',\n",
       "       '2005', '2006', '2007', '2008', '2009', '2010', '2011', '2012', '2013',\n",
       "       '2014', '2015', '2016', '2017', '2018', '2019', '2020', '2021',\n",
       "       'Unnamed: 66'],\n",
       "      dtype='object')"
      ]
     },
     "execution_count": 4,
     "metadata": {},
     "output_type": "execute_result"
    }
   ],
   "source": [
    "df.columns"
   ]
  },
  {
   "cell_type": "markdown",
   "id": "40567abe-3be6-488e-a653-5995eab9888a",
   "metadata": {},
   "source": [
    "## Data preparation"
   ]
  },
  {
   "cell_type": "markdown",
   "id": "6368aaee-20e0-4be6-a0cc-cbfb2f9dccca",
   "metadata": {},
   "source": [
    "If our dataframe is pivoted in date as data in worldbank We have to unpivot dates. First we select columns we do not want to unpivot to calculate pivot cols:"
   ]
  },
  {
   "cell_type": "code",
   "execution_count": 5,
   "id": "37606aa6-afbb-404e-89ff-6812268d36b5",
   "metadata": {
    "tags": []
   },
   "outputs": [],
   "source": [
    "unpivot_cols = ['Country Name', 'Country Code', 'Indicator Name', 'Indicator Code', 'Unnamed: 66']\n",
    "pivot_cols  = [col_ for col_ in df.columns if col_ not in unpivot_cols]"
   ]
  },
  {
   "cell_type": "code",
   "execution_count": 6,
   "id": "9fb1af7a-7fe0-4f4a-b7df-f3f56f196e46",
   "metadata": {
    "tags": []
   },
   "outputs": [],
   "source": [
    "df_unpivot = pd.melt(df,id_vars = \"Country Code\" , value_vars = pivot_cols) "
   ]
  },
  {
   "cell_type": "markdown",
   "id": "73645df2-cc2d-46eb-b177-30e980cccedb",
   "metadata": {},
   "source": [
    "Rename some columns to a standard:\n",
    "- Country code --> code\n",
    "- variable (melt deffault) --> date\n",
    "\n",
    "drop previous tables"
   ]
  },
  {
   "cell_type": "code",
   "execution_count": 7,
   "id": "0619c78f-5273-449c-904c-6f96ad1a1563",
   "metadata": {
    "tags": []
   },
   "outputs": [],
   "source": [
    "df_unpivot[\"code\"] = df_unpivot[\"Country Code\"]\n",
    "df_unpivot[\"date\"] = df_unpivot[\"variable\"]\n",
    "df_unpivot = df_unpivot.drop([\"variable\",\"Country Code\"],axis = 1)"
   ]
  },
  {
   "cell_type": "markdown",
   "id": "9ac74d99-4beb-4472-a06d-02a2d46ed5ed",
   "metadata": {},
   "source": [
    "Filter the selected countries"
   ]
  },
  {
   "cell_type": "code",
   "execution_count": 8,
   "id": "1cbe63f5-bba7-42f4-96dc-55f95ee7598b",
   "metadata": {
    "tags": []
   },
   "outputs": [],
   "source": [
    "df_unpivot = df_unpivot[df_unpivot[\"code\"].isin(selected_countries)]"
   ]
  },
  {
   "cell_type": "markdown",
   "id": "d7a42e9e-09bd-469b-a8eb-d1a81335191f",
   "metadata": {},
   "source": [
    "Check all countries has the same data to have a better chart. (You have to check manualy the year)"
   ]
  },
  {
   "cell_type": "code",
   "execution_count": 9,
   "id": "e7e01dd8-daf6-4e00-a37d-7ea69451b19b",
   "metadata": {
    "tags": []
   },
   "outputs": [
    {
     "data": {
      "text/html": [
       "<div>\n",
       "<style scoped>\n",
       "    .dataframe tbody tr th:only-of-type {\n",
       "        vertical-align: middle;\n",
       "    }\n",
       "\n",
       "    .dataframe tbody tr th {\n",
       "        vertical-align: top;\n",
       "    }\n",
       "\n",
       "    .dataframe thead th {\n",
       "        text-align: right;\n",
       "    }\n",
       "</style>\n",
       "<table border=\"1\" class=\"dataframe\">\n",
       "  <thead>\n",
       "    <tr style=\"text-align: right;\">\n",
       "      <th></th>\n",
       "      <th>code</th>\n",
       "      <th>value</th>\n",
       "      <th>date</th>\n",
       "    </tr>\n",
       "  </thead>\n",
       "  <tbody>\n",
       "    <tr>\n",
       "      <th>0</th>\n",
       "      <td>BRA</td>\n",
       "      <td>52</td>\n",
       "      <td>52</td>\n",
       "    </tr>\n",
       "    <tr>\n",
       "      <th>1</th>\n",
       "      <td>CAN</td>\n",
       "      <td>52</td>\n",
       "      <td>52</td>\n",
       "    </tr>\n",
       "    <tr>\n",
       "      <th>2</th>\n",
       "      <td>CHN</td>\n",
       "      <td>52</td>\n",
       "      <td>52</td>\n",
       "    </tr>\n",
       "    <tr>\n",
       "      <th>3</th>\n",
       "      <td>DEU</td>\n",
       "      <td>52</td>\n",
       "      <td>52</td>\n",
       "    </tr>\n",
       "    <tr>\n",
       "      <th>4</th>\n",
       "      <td>DNK</td>\n",
       "      <td>52</td>\n",
       "      <td>52</td>\n",
       "    </tr>\n",
       "    <tr>\n",
       "      <th>5</th>\n",
       "      <td>ESP</td>\n",
       "      <td>52</td>\n",
       "      <td>52</td>\n",
       "    </tr>\n",
       "    <tr>\n",
       "      <th>6</th>\n",
       "      <td>FRA</td>\n",
       "      <td>52</td>\n",
       "      <td>52</td>\n",
       "    </tr>\n",
       "    <tr>\n",
       "      <th>7</th>\n",
       "      <td>GBR</td>\n",
       "      <td>52</td>\n",
       "      <td>52</td>\n",
       "    </tr>\n",
       "    <tr>\n",
       "      <th>8</th>\n",
       "      <td>KOR</td>\n",
       "      <td>52</td>\n",
       "      <td>52</td>\n",
       "    </tr>\n",
       "    <tr>\n",
       "      <th>9</th>\n",
       "      <td>MEX</td>\n",
       "      <td>52</td>\n",
       "      <td>52</td>\n",
       "    </tr>\n",
       "    <tr>\n",
       "      <th>10</th>\n",
       "      <td>NOR</td>\n",
       "      <td>52</td>\n",
       "      <td>52</td>\n",
       "    </tr>\n",
       "    <tr>\n",
       "      <th>11</th>\n",
       "      <td>SWE</td>\n",
       "      <td>52</td>\n",
       "      <td>52</td>\n",
       "    </tr>\n",
       "    <tr>\n",
       "      <th>12</th>\n",
       "      <td>USA</td>\n",
       "      <td>52</td>\n",
       "      <td>52</td>\n",
       "    </tr>\n",
       "  </tbody>\n",
       "</table>\n",
       "</div>"
      ],
      "text/plain": [
       "   code  value  date\n",
       "0   BRA     52    52\n",
       "1   CAN     52    52\n",
       "2   CHN     52    52\n",
       "3   DEU     52    52\n",
       "4   DNK     52    52\n",
       "5   ESP     52    52\n",
       "6   FRA     52    52\n",
       "7   GBR     52    52\n",
       "8   KOR     52    52\n",
       "9   MEX     52    52\n",
       "10  NOR     52    52\n",
       "11  SWE     52    52\n",
       "12  USA     52    52"
      ]
     },
     "execution_count": 9,
     "metadata": {},
     "output_type": "execute_result"
    }
   ],
   "source": [
    "selected_year = \"1969\"\n",
    "df_unpivot[df_unpivot[\"date\"]>selected_year].groupby(by = [\"code\"],as_index = False).count()"
   ]
  },
  {
   "cell_type": "markdown",
   "id": "22ed58ed-c31a-421a-9733-9ce7a80b6c34",
   "metadata": {},
   "source": [
    "Filter by the selected year"
   ]
  },
  {
   "cell_type": "code",
   "execution_count": 10,
   "id": "ac2a4967-5191-4fc0-91d0-08c414cbe7c9",
   "metadata": {
    "tags": []
   },
   "outputs": [
    {
     "data": {
      "text/html": [
       "<div>\n",
       "<style scoped>\n",
       "    .dataframe tbody tr th:only-of-type {\n",
       "        vertical-align: middle;\n",
       "    }\n",
       "\n",
       "    .dataframe tbody tr th {\n",
       "        vertical-align: top;\n",
       "    }\n",
       "\n",
       "    .dataframe thead th {\n",
       "        text-align: right;\n",
       "    }\n",
       "</style>\n",
       "<table border=\"1\" class=\"dataframe\">\n",
       "  <thead>\n",
       "    <tr style=\"text-align: right;\">\n",
       "      <th></th>\n",
       "      <th>value</th>\n",
       "      <th>code</th>\n",
       "      <th>date</th>\n",
       "    </tr>\n",
       "  </thead>\n",
       "  <tbody>\n",
       "    <tr>\n",
       "      <th>2689</th>\n",
       "      <td>20.121837</td>\n",
       "      <td>BRA</td>\n",
       "      <td>1970</td>\n",
       "    </tr>\n",
       "    <tr>\n",
       "      <th>2695</th>\n",
       "      <td>22.357406</td>\n",
       "      <td>CAN</td>\n",
       "      <td>1970</td>\n",
       "    </tr>\n",
       "    <tr>\n",
       "      <th>2700</th>\n",
       "      <td>36.101427</td>\n",
       "      <td>CHN</td>\n",
       "      <td>1970</td>\n",
       "    </tr>\n",
       "    <tr>\n",
       "      <th>2715</th>\n",
       "      <td>28.116652</td>\n",
       "      <td>DEU</td>\n",
       "      <td>1970</td>\n",
       "    </tr>\n",
       "    <tr>\n",
       "      <th>2718</th>\n",
       "      <td>23.913505</td>\n",
       "      <td>DNK</td>\n",
       "      <td>1970</td>\n",
       "    </tr>\n",
       "  </tbody>\n",
       "</table>\n",
       "</div>"
      ],
      "text/plain": [
       "          value code  date\n",
       "2689  20.121837  BRA  1970\n",
       "2695  22.357406  CAN  1970\n",
       "2700  36.101427  CHN  1970\n",
       "2715  28.116652  DEU  1970\n",
       "2718  23.913505  DNK  1970"
      ]
     },
     "execution_count": 10,
     "metadata": {},
     "output_type": "execute_result"
    }
   ],
   "source": [
    "df_norm = df_unpivot[df_unpivot[\"date\"]>selected_year]\n",
    "df_norm.head(5)"
   ]
  },
  {
   "cell_type": "markdown",
   "id": "18c4592f-34bb-41a5-9dd3-d9133a78258b",
   "metadata": {},
   "source": [
    "Our module only works with pivoted data. Each columns represents one bar and the rows the time travel throw the years, months or the selected frecuency. So we have to pivot our countrys codes to have the final table"
   ]
  },
  {
   "cell_type": "code",
   "execution_count": 11,
   "id": "c0c87854-770d-4084-81cd-524fbbe982c6",
   "metadata": {
    "tags": []
   },
   "outputs": [],
   "source": [
    "df_graph = df_norm.pivot(index='date',columns='code',values='value') "
   ]
  },
  {
   "cell_type": "code",
   "execution_count": 12,
   "id": "3781ebb2-9f09-4e01-903c-c955da7d9502",
   "metadata": {
    "tags": []
   },
   "outputs": [
    {
     "data": {
      "text/html": [
       "<div>\n",
       "<style scoped>\n",
       "    .dataframe tbody tr th:only-of-type {\n",
       "        vertical-align: middle;\n",
       "    }\n",
       "\n",
       "    .dataframe tbody tr th {\n",
       "        vertical-align: top;\n",
       "    }\n",
       "\n",
       "    .dataframe thead th {\n",
       "        text-align: right;\n",
       "    }\n",
       "</style>\n",
       "<table border=\"1\" class=\"dataframe\">\n",
       "  <thead>\n",
       "    <tr style=\"text-align: right;\">\n",
       "      <th>code</th>\n",
       "      <th>BRA</th>\n",
       "      <th>CAN</th>\n",
       "      <th>CHN</th>\n",
       "      <th>DEU</th>\n",
       "      <th>DNK</th>\n",
       "      <th>ESP</th>\n",
       "      <th>FRA</th>\n",
       "      <th>GBR</th>\n",
       "      <th>KOR</th>\n",
       "      <th>MEX</th>\n",
       "      <th>NOR</th>\n",
       "      <th>SWE</th>\n",
       "      <th>USA</th>\n",
       "    </tr>\n",
       "    <tr>\n",
       "      <th>date</th>\n",
       "      <th></th>\n",
       "      <th></th>\n",
       "      <th></th>\n",
       "      <th></th>\n",
       "      <th></th>\n",
       "      <th></th>\n",
       "      <th></th>\n",
       "      <th></th>\n",
       "      <th></th>\n",
       "      <th></th>\n",
       "      <th></th>\n",
       "      <th></th>\n",
       "      <th></th>\n",
       "    </tr>\n",
       "  </thead>\n",
       "  <tbody>\n",
       "    <tr>\n",
       "      <th>1970</th>\n",
       "      <td>20.121837</td>\n",
       "      <td>22.357406</td>\n",
       "      <td>36.101427</td>\n",
       "      <td>28.116652</td>\n",
       "      <td>23.913505</td>\n",
       "      <td>26.446732</td>\n",
       "      <td>28.735541</td>\n",
       "      <td>16.158864</td>\n",
       "      <td>16.373453</td>\n",
       "      <td>20.773649</td>\n",
       "      <td>32.283404</td>\n",
       "      <td>29.470995</td>\n",
       "      <td>21.782572</td>\n",
       "    </tr>\n",
       "    <tr>\n",
       "      <th>1971</th>\n",
       "      <td>18.841304</td>\n",
       "      <td>22.341130</td>\n",
       "      <td>36.790155</td>\n",
       "      <td>26.838151</td>\n",
       "      <td>23.886870</td>\n",
       "      <td>26.079122</td>\n",
       "      <td>28.344699</td>\n",
       "      <td>15.586434</td>\n",
       "      <td>14.418266</td>\n",
       "      <td>19.160633</td>\n",
       "      <td>31.603448</td>\n",
       "      <td>28.659499</td>\n",
       "      <td>21.973044</td>\n",
       "    </tr>\n",
       "    <tr>\n",
       "      <th>1972</th>\n",
       "      <td>19.442595</td>\n",
       "      <td>22.291881</td>\n",
       "      <td>35.717764</td>\n",
       "      <td>25.855207</td>\n",
       "      <td>26.298863</td>\n",
       "      <td>26.611095</td>\n",
       "      <td>28.427921</td>\n",
       "      <td>14.374550</td>\n",
       "      <td>16.779530</td>\n",
       "      <td>19.591912</td>\n",
       "      <td>31.908326</td>\n",
       "      <td>28.139858</td>\n",
       "      <td>22.317002</td>\n",
       "    </tr>\n",
       "    <tr>\n",
       "      <th>1973</th>\n",
       "      <td>26.038116</td>\n",
       "      <td>24.425319</td>\n",
       "      <td>36.547027</td>\n",
       "      <td>25.644619</td>\n",
       "      <td>25.643469</td>\n",
       "      <td>26.917683</td>\n",
       "      <td>28.868771</td>\n",
       "      <td>15.148125</td>\n",
       "      <td>22.392488</td>\n",
       "      <td>20.345036</td>\n",
       "      <td>32.816637</td>\n",
       "      <td>28.601769</td>\n",
       "      <td>23.620154</td>\n",
       "    </tr>\n",
       "    <tr>\n",
       "      <th>1974</th>\n",
       "      <td>22.932876</td>\n",
       "      <td>25.408453</td>\n",
       "      <td>36.071447</td>\n",
       "      <td>24.473962</td>\n",
       "      <td>23.587044</td>\n",
       "      <td>25.860994</td>\n",
       "      <td>28.021608</td>\n",
       "      <td>11.207424</td>\n",
       "      <td>21.531942</td>\n",
       "      <td>21.043089</td>\n",
       "      <td>33.816557</td>\n",
       "      <td>27.620381</td>\n",
       "      <td>22.642199</td>\n",
       "    </tr>\n",
       "  </tbody>\n",
       "</table>\n",
       "</div>"
      ],
      "text/plain": [
       "code        BRA        CAN        CHN        DEU        DNK        ESP  \\\n",
       "date                                                                     \n",
       "1970  20.121837  22.357406  36.101427  28.116652  23.913505  26.446732   \n",
       "1971  18.841304  22.341130  36.790155  26.838151  23.886870  26.079122   \n",
       "1972  19.442595  22.291881  35.717764  25.855207  26.298863  26.611095   \n",
       "1973  26.038116  24.425319  36.547027  25.644619  25.643469  26.917683   \n",
       "1974  22.932876  25.408453  36.071447  24.473962  23.587044  25.860994   \n",
       "\n",
       "code        FRA        GBR        KOR        MEX        NOR        SWE  \\\n",
       "date                                                                     \n",
       "1970  28.735541  16.158864  16.373453  20.773649  32.283404  29.470995   \n",
       "1971  28.344699  15.586434  14.418266  19.160633  31.603448  28.659499   \n",
       "1972  28.427921  14.374550  16.779530  19.591912  31.908326  28.139858   \n",
       "1973  28.868771  15.148125  22.392488  20.345036  32.816637  28.601769   \n",
       "1974  28.021608  11.207424  21.531942  21.043089  33.816557  27.620381   \n",
       "\n",
       "code        USA  \n",
       "date             \n",
       "1970  21.782572  \n",
       "1971  21.973044  \n",
       "1972  22.317002  \n",
       "1973  23.620154  \n",
       "1974  22.642199  "
      ]
     },
     "execution_count": 12,
     "metadata": {},
     "output_type": "execute_result"
    }
   ],
   "source": [
    "df_graph.head(5)"
   ]
  },
  {
   "cell_type": "markdown",
   "id": "83c15c49-28d0-4a5e-a39e-2adc235a5ea8",
   "metadata": {},
   "source": [
    "We fill nas in case we have in our data to prevent errors"
   ]
  },
  {
   "cell_type": "code",
   "execution_count": 13,
   "id": "1f273498-8c9b-42cd-a3e9-3b9a8dc14896",
   "metadata": {
    "tags": []
   },
   "outputs": [],
   "source": [
    "# df_graph.fillna(0.0, inplace=True)\n",
    "df_graph.interpolate(axis = 0, inplace=True)"
   ]
  },
  {
   "cell_type": "markdown",
   "id": "ccbb6bfc-a309-402f-b2a8-aae4aa3961f8",
   "metadata": {},
   "source": [
    "## Create Graphs"
   ]
  },
  {
   "cell_type": "code",
   "execution_count": null,
   "id": "045bc1ba-284c-492c-9db5-6e69fc080825",
   "metadata": {
    "tags": []
   },
   "outputs": [
    {
     "name": "stderr",
     "output_type": "stream",
     "text": [
      "MovieWriter imagemagick unavailable; using Pillow instead.\n"
     ]
    }
   ],
   "source": [
    "bcr.bar_chart_race(df=df_graph,\n",
    "\n",
    "    # name of the video file\n",
    "    filename=\"video.gif\",\n",
    "    # specify location of image folder\n",
    "    img_label_folder=\"bar_image_labels\",\n",
    "    fixed_max = True, \n",
    "    # change the Figure properties\n",
    "    fig_kwargs={\n",
    "        'figsize': (26, 15),\n",
    "        'dpi': 120,\n",
    "        'facecolor': '#F8FAFF'\n",
    "    },\n",
    "\n",
    "    # orientation of the bar: h or v\n",
    "    orientation=\"h\",\n",
    "\n",
    "    # sort the bar for each period\n",
    "    sort=\"desc\",\n",
    "\n",
    "    # number of bars to display in each frame\n",
    "    n_bars=10,\n",
    "\n",
    "    # to fix the maximum value of the axis\n",
    "    # fixed_max=True,\n",
    "\n",
    "    # smoothness of the animation\n",
    "    steps_per_period=10,\n",
    "\n",
    "    # time period in ms for each row\n",
    "    period_length=1500,\n",
    "\n",
    "    # custom set of colors\n",
    "    colors=[\n",
    "        '#6ECBCE', '#FF2243', '#FFC33D', '#CE9673', '#FFA0FF', '#6501E5', '#F79522', '#699AF8', '#34718E', '#00DBCD',\n",
    "        '#00A3FF', '#F8A737', '#56BD5B', '#D40CE5', '#6936F9', '#FF317B', '#0000F3', '#FFA0A0', '#31FF83', '#0556F3'\n",
    "    ],\n",
    "\n",
    "    # title and its styles\n",
    "    title={'label': 'Gross domestic savings (% of GDP)',\n",
    "           'size': 52,\n",
    "           'weight': 'bold',\n",
    "           'pad': 40\n",
    "           },\n",
    "\n",
    "    # adjust the position and style of the period label\n",
    "    period_label={'x': .95, 'y': .15,\n",
    "                  'ha': 'right',\n",
    "                  'va': 'center',\n",
    "                  'size': 72,\n",
    "                  'weight': 'semibold'\n",
    "                  },\n",
    "\n",
    "    # style the bar label text\n",
    "    bar_label_font={'size': 27},\n",
    "\n",
    "    # style the labels in x and y axis\n",
    "    tick_label_font={'size': 27},\n",
    "\n",
    "    # adjust the style of bar\n",
    "    # alpha is opacity of bar\n",
    "    # ls - width of edge\n",
    "    bar_kwargs={'alpha': .99, 'lw': 0},\n",
    "\n",
    "    # adjust the bar label format\n",
    "    bar_texttemplate='{x:.2f}',\n",
    "\n",
    "    # adjust the period label format\n",
    ")"
   ]
  }
 ],
 "metadata": {
  "kernelspec": {
   "display_name": "Python 3 (ipykernel)",
   "language": "python",
   "name": "python3"
  },
  "language_info": {
   "codemirror_mode": {
    "name": "ipython",
    "version": 3
   },
   "file_extension": ".py",
   "mimetype": "text/x-python",
   "name": "python",
   "nbconvert_exporter": "python",
   "pygments_lexer": "ipython3",
   "version": "3.9.16"
  }
 },
 "nbformat": 4,
 "nbformat_minor": 5
}
